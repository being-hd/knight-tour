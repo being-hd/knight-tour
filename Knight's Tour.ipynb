{
 "cells": [
  {
   "cell_type": "code",
   "execution_count": 1,
   "id": "3dd18c9e",
   "metadata": {},
   "outputs": [],
   "source": [
    "# The Knight's Tour Game"
   ]
  },
  {
   "cell_type": "code",
   "execution_count": 1,
   "id": "b9a2d40b",
   "metadata": {},
   "outputs": [],
   "source": [
    "def display_board(board):\n",
    "    \n",
    "    clear_output()\n",
    "    ranks = [\"1\",\"2\",\"3\",\"4\",\"5\",\"6\",\"7\",\"8\"]\n",
    "    files = [\"a\",\"b\",\"c\",\"d\",\"e\",\"f\",\"g\",\"h\"]\n",
    "    \n",
    "    print(\"  -----------------------------------------\")\n",
    "    print(f\"{ranks[7] or '  '} | {board[57] or '  '} | {board[58] or '  '} | {board[59] or '  '} | {board[60] or '  '} | {board[61] or '  '} | {board[62] or '  '} | {board[63] or '  '} | {board[64] or '  '} |\")\n",
    "    print(\"  -----------------------------------------\")\n",
    "    print(f\"{ranks[6] or '  '} | {board[49] or '  '} | {board[50] or '  '} | {board[51] or '  '} | {board[52] or '  '} | {board[53] or '  '} | {board[54] or '  '} | {board[55] or '  '} | {board[56] or '  '} |\")\n",
    "    print(\"  -----------------------------------------\")\n",
    "    print(f\"{ranks[5] or '  '} | {board[41] or '  '} | {board[42] or '  '} | {board[43] or '  '} | {board[44] or '  '} | {board[45] or '  '} | {board[46] or '  '} | {board[47] or '  '} | {board[48] or '  '} |\")\n",
    "    print(\"  -----------------------------------------\")\n",
    "    print(f\"{ranks[4] or '  '} | {board[33] or '  '} | {board[34] or '  '} | {board[35] or '  '} | {board[36] or '  '} | {board[37] or '  '} | {board[38] or '  '} | {board[39] or '  '} | {board[40] or '  '} |\")\n",
    "    print(\"  -----------------------------------------\")\n",
    "    print(f\"{ranks[3] or '  '} | {board[25] or '  '} | {board[26] or '  '} | {board[27] or '  '} | {board[28] or '  '} | {board[29] or '  '} | {board[30] or '  '} | {board[31] or '  '} | {board[32] or '  '} |\")\n",
    "    print(\"  -----------------------------------------\")\n",
    "    print(f\"{ranks[2] or '  '} | {board[17] or '  '} | {board[18] or '  '} | {board[19] or '  '} | {board[20] or '  '} | {board[21] or '  '} | {board[22] or '  '} | {board[23] or '  '} | {board[24] or '  '} |\")\n",
    "    print(\"  -----------------------------------------\")\n",
    "    print(f\"{ranks[1] or '  '} | {board[9] or '  '} | {board[10] or '  '} | {board[11] or '  '} | {board[12] or '  '} | {board[13] or '  '} | {board[14] or '  '} | {board[15] or '  '} | {board[16] or '  '} |\")\n",
    "    print(\"  -----------------------------------------\")\n",
    "    print(f\"{ranks[0] or '  '} | {board[1] or '  '} | {board[2] or '  '} | {board[3] or '  '} | {board[4] or '  '} | {board[5] or '  '} | {board[6] or '  '} | {board[7] or '  '} | {board[8] or '  '} |\")\n",
    "    print(\"  -----------------------------------------\")\n",
    "    print(f\"    {files[0]}     {files[1]}    {files[2]}    {files[3]}    {files[4]}    {files[5]}    {files[6]}    {files[7]}\")"
   ]
  },
  {
   "cell_type": "code",
   "execution_count": 2,
   "id": "5a48af73",
   "metadata": {},
   "outputs": [],
   "source": [
    "def validate_pos(ch):\n",
    "    while int(ch) not in range(1,65):\n",
    "        ch = input(\"Wrong input ! Enter again: \")\n",
    "    return ch"
   ]
  },
  {
   "cell_type": "code",
   "execution_count": 3,
   "id": "8523b0c4",
   "metadata": {},
   "outputs": [],
   "source": [
    "def print_color(text, color):\n",
    "    display(Markdown(f'<span style=\"color:{color}\">{text}</span>'))"
   ]
  },
  {
   "cell_type": "code",
   "execution_count": 4,
   "id": "658e7943",
   "metadata": {},
   "outputs": [],
   "source": [
    "def display_board_markers(choice, counter, board, candidate):\n",
    "    \n",
    "    list_num = [\"1\",\"2\",\"3\",\"4\",\"5\",\"6\",\"7\",\"8\",\"9\"]\n",
    "    \n",
    "    for ch in candidate:\n",
    "        if ch in list_num:\n",
    "            board[int(ch)] = print_color('0' + ch,'red')\n",
    "        else:\n",
    "            board[int(ch)] = print_color(ch,'red')\n",
    "    \n",
    "    if str(counter) in list_num:\n",
    "        board[int(choice)] = '0' + str(counter)\n",
    "    else:\n",
    "        board[int(choice)] = str(counter)\n",
    "    display_board(board)"
   ]
  },
  {
   "cell_type": "code",
   "execution_count": 5,
   "id": "55e275e5",
   "metadata": {},
   "outputs": [],
   "source": [
    "def valid(candidate):\n",
    "    ch = input(\"Enter new position from the available positions: \")\n",
    "    while ch not in candidate:\n",
    "        ch = input(\"Wrong choice. Enter again: \")\n",
    "    return ch"
   ]
  },
  {
   "cell_type": "code",
   "execution_count": 6,
   "id": "3f44e21c",
   "metadata": {},
   "outputs": [],
   "source": [
    "def map_positions():\n",
    "    \n",
    "    board_map1 = {}\n",
    "    board_map2 = {}\n",
    "    val = 0\n",
    "    for rank in range(1, 9):\n",
    "        for file in \"abcdefgh\":\n",
    "            key = file + str(rank)\n",
    "            val += 1 \n",
    "            board_map1[str(val)] = key\n",
    "            board_map2[key] = str(val)\n",
    "    return (board_map1,board_map2)\n"
   ]
  },
  {
   "cell_type": "code",
   "execution_count": 7,
   "id": "3b927f0b",
   "metadata": {},
   "outputs": [],
   "source": [
    "def available_positions(filled,legal):\n",
    "    return list(set(legal) - set(filled))"
   ]
  },
  {
   "cell_type": "code",
   "execution_count": 8,
   "id": "34f3a96a",
   "metadata": {},
   "outputs": [],
   "source": [
    "def legal_moves(position):\n",
    "    \n",
    "    board_map1 = map_positions()[0]\n",
    "    position = board_map1[str(position)]\n",
    "    \n",
    "    start_file = ord(position[0]) - ord('a')\n",
    "    start_rank = int(position[1]) - 1\n",
    "    start_square = (start_file, start_rank)\n",
    "    valid_moves = []\n",
    "\n",
    "    moves = [(2, 1), (1, 2), (-1, 2), (-2, 1), (-2, -1), (-1, -2), (1, -2), (2, -1)]\n",
    "\n",
    "    for move in moves:\n",
    "        \n",
    "        new_file = start_file + move[0]\n",
    "        new_rank = start_rank + move[1]\n",
    "        \n",
    "        if new_file >= 0 and new_file <= 7 and new_rank >= 0 and new_rank <= 7:\n",
    "            valid_moves.append(chr(new_file + ord('a')) + str(new_rank + 1))\n",
    "\n",
    "    return valid_moves\n"
   ]
  },
  {
   "cell_type": "code",
   "execution_count": 9,
   "id": "19550b29",
   "metadata": {},
   "outputs": [],
   "source": [
    "# The main function for a interactive user interface\n",
    "from IPython.display import clear_output, Markdown, display\n",
    "\n",
    "def knight_tour():\n",
    "    \n",
    "    print(\"Welcome to the Knight's Tour Game !\")\n",
    "    choice_YN = input(\"Do you want to play ? Enter 'y' or 'n': \")\n",
    "    \n",
    "    if choice_YN == 'n':\n",
    "        return \"Have a Nice Day !\"\n",
    "    else:\n",
    "        # Initial Board\n",
    "        board = 65*['']\n",
    "        counter = 1\n",
    "        display_board(board)\n",
    "        print('\\n')\n",
    "        \n",
    "        filled_squares = []\n",
    "        candidate_set = []\n",
    "        list_num = [\"1\",\"2\",\"3\",\"4\",\"5\",\"6\",\"7\",\"8\",\"9\"]\n",
    "        (board_map1,board_map2) = map_positions()\n",
    "        \n",
    "        choice = validate_pos(input(\"Enter Initial Position: \"))\n",
    "        filled_squares.append(board_map1[choice])\n",
    "        if str(counter) in '123456789':\n",
    "            board[int(choice)] = '0' + str(counter)\n",
    "        else:\n",
    "            board[int(choice)] = str(counter)\n",
    "        display_board(board)\n",
    "        \n",
    "        for _ in range(1,65):\n",
    "            \n",
    "            valid_moves = legal_moves(choice)\n",
    "            available_moves = available_positions(filled_squares, valid_moves)\n",
    "            \n",
    "            if available_moves == []:\n",
    "                print(f\"No. of positions filled: {counter}\")\n",
    "                return \"No more positions left. Game Over !\"\n",
    "            \n",
    "            for moves in available_moves:\n",
    "                candidate_set.append(board_map2[moves])\n",
    "                \n",
    "            display_board_markers(choice, counter, board,candidate_set)\n",
    "                \n",
    "            print(f\"Positions available: {candidate_set}\")\n",
    "            choice = valid(candidate_set)\n",
    "            filled_squares.append(board_map1[choice])\n",
    "            \n",
    "            if str(counter) in list_num:\n",
    "                board[int(choice)] = '0' + str(counter)\n",
    "            else:\n",
    "                board[int(choice)] = str(counter)\n",
    "            \n",
    "            for moves in candidate_set:\n",
    "                board[int(moves)] = '  '\n",
    "            candidate_set = []\n",
    "            counter += 1\n",
    "        \n",
    "        display_board(board)\n",
    "        print(\"Congratulations ! You won !\")"
   ]
  },
  {
   "cell_type": "code",
   "execution_count": null,
   "id": "aa5f0ba6",
   "metadata": {},
   "outputs": [],
   "source": []
  }
 ],
 "metadata": {
  "kernelspec": {
   "display_name": "Python 3 (ipykernel)",
   "language": "python",
   "name": "python3"
  },
  "language_info": {
   "codemirror_mode": {
    "name": "ipython",
    "version": 3
   },
   "file_extension": ".py",
   "mimetype": "text/x-python",
   "name": "python",
   "nbconvert_exporter": "python",
   "pygments_lexer": "ipython3",
   "version": "3.9.13"
  }
 },
 "nbformat": 4,
 "nbformat_minor": 5
}
